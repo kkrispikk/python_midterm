{
 "cells": [
  {
   "cell_type": "code",
   "execution_count": 84,
   "metadata": {},
   "outputs": [],
   "source": [
    "from urllib.request import urlopen as uReq\n",
    "from bs4 import BeautifulSoup as bs\n",
    "import pandas as pd\n",
    "from IPython.display import display, HTML\n",
    "\n",
    "class Downloader:\n",
    "    def __init__(self, link):\n",
    "        self.link = link\n",
    "        \n",
    "    def download(self):\n",
    "        # This downloads page html\n",
    "        uClient = uReq(self.link)\n",
    "        page_html = uClient.read()\n",
    "        uClient.close()\n",
    "        return bs(page_html, \"lxml\")\n",
    "\n",
    "        \n",
    "    def get_url(self):\n",
    "        #This will get me url for individual characters \n",
    "        html = self.download()\n",
    "        lis = html.find('span',{'id':'Unseen_University_and_the_Wizards'}).parent.previous.previous.parent.parent.parent.find_all('li')\n",
    "        urls = []\n",
    "        for li in lis:\n",
    "            urls.append('http://wiki.lspace.org' + li.find('a')['href'])\n",
    "        return urls\n",
    "    \n",
    "    def get_name(self):\n",
    "        html = self.download()\n",
    "        lis = html.find('span',{'id':'Unseen_University_and_the_Wizards'}).parent.previous.previous.parent.parent.parent.find_all('li')\n",
    "        names = []\n",
    "        for li in lis:\n",
    "            # finds <li>...</li> in every td and returns the text (which is the name) and adds it to the list of names\n",
    "              names.append(li.a.text)\n",
    "        return names\n",
    "    \n",
    "    def get_book(self):\n",
    "        #for every url in the urls it shoul find the <a> with the text Book, find the next sibling which is the name of the book\n",
    "        urls = self.get_url()\n",
    "        books = []\n",
    "        for url in urls:\n",
    "            books.append(Downloader(url).download().find('a', text = 'Books').next_sibling)\n",
    "        return books\n",
    "    #this method is not working for some reason \n",
    "    \n",
    "    def get_df(self):\n",
    "        names = self.get_name()\n",
    "        books = self.get_book()\n",
    "        \n",
    "        self.data = pd.DataFrame({'character_name': pd.Series(names),\n",
    "                                  'book': pd.Series(books)\n",
    "             })\n",
    "        "
   ]
  },
  {
   "cell_type": "code",
   "execution_count": null,
   "metadata": {},
   "outputs": [],
   "source": [
    "info = Downloader(\"http://wiki.lspace.org/mediawiki/List_of_Pratchett_characters\")\n",
    "info.get_df()\n",
    "display(info.data)\n"
   ]
  },
  {
   "cell_type": "code",
   "execution_count": null,
   "metadata": {},
   "outputs": [],
   "source": []
  },
  {
   "cell_type": "code",
   "execution_count": null,
   "metadata": {},
   "outputs": [],
   "source": []
  }
 ],
 "metadata": {
  "kernelspec": {
   "display_name": "Python 3",
   "language": "python",
   "name": "python3"
  },
  "language_info": {
   "codemirror_mode": {
    "name": "ipython",
    "version": 3
   },
   "file_extension": ".py",
   "mimetype": "text/x-python",
   "name": "python",
   "nbconvert_exporter": "python",
   "pygments_lexer": "ipython3",
   "version": "3.7.4"
  }
 },
 "nbformat": 4,
 "nbformat_minor": 4
}
